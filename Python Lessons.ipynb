{
 "cells": [
  {
   "cell_type": "markdown",
   "id": "7d59a813",
   "metadata": {},
   "source": [
    "# Variables \n",
    "## variables are assigned using the = sign"
   ]
  },
  {
   "cell_type": "code",
   "execution_count": 33,
   "id": "05285d8d",
   "metadata": {},
   "outputs": [
    {
     "name": "stdout",
     "output_type": "stream",
     "text": [
      "Printing the variable values a,b,c,d,e,f,g, and h:  4 3 7 12 1 16 1.3333333333333333 1\n"
     ]
    }
   ],
   "source": [
    "#variable is like a container\n",
    "#assigning numberic values to variables and basic math operations\n",
    "\n",
    "a=4 \n",
    "b=3\n",
    "c=a+b\n",
    "d=a*b\n",
    "e=a-b\n",
    "f=a**2\n",
    "g=a/b\n",
    "h=a%b\n",
    "print('Printing the variable values a,b,c,d,e,f,g, and h: ',a,b,c,d,e,f,g,h)"
   ]
  },
  {
   "cell_type": "code",
   "execution_count": 34,
   "id": "25e8fcc3",
   "metadata": {},
   "outputs": [
    {
     "name": "stdout",
     "output_type": "stream",
     "text": [
      "I have 1 Dog and 3 cows\n"
     ]
    }
   ],
   "source": [
    "# assigning string values to variables\n",
    "pet='Dog'\n",
    "farm_animals='cows'\n",
    "print('I have 1', pet,'and 3',farm_animals)"
   ]
  },
  {
   "cell_type": "markdown",
   "id": "7aa61e7f",
   "metadata": {},
   "source": [
    "# If else statements\n",
    "## controle flow "
   ]
  },
  {
   "cell_type": "code",
   "execution_count": 38,
   "id": "39a87461",
   "metadata": {},
   "outputs": [],
   "source": [
    "# if else statements allow us to get an output \n",
    "# based on conditions"
   ]
  },
  {
   "cell_type": "code",
   "execution_count": 40,
   "id": "6364aec7",
   "metadata": {},
   "outputs": [
    {
     "name": "stdout",
     "output_type": "stream",
     "text": [
      "x is less than 10.\n"
     ]
    }
   ],
   "source": [
    "x=4\n",
    "if x<10:\n",
    "    print('x is less than 10.')\n",
    "elif x>10:\n",
    "    print('x is greater than 10.')\n",
    "else:\n",
    "    print('x is not found.')"
   ]
  },
  {
   "cell_type": "code",
   "execution_count": null,
   "id": "8c22146f",
   "metadata": {},
   "outputs": [],
   "source": []
  },
  {
   "cell_type": "code",
   "execution_count": null,
   "id": "315e80ab",
   "metadata": {},
   "outputs": [],
   "source": []
  },
  {
   "cell_type": "code",
   "execution_count": null,
   "id": "424a44ec",
   "metadata": {},
   "outputs": [],
   "source": []
  },
  {
   "cell_type": "code",
   "execution_count": null,
   "id": "a1071065",
   "metadata": {},
   "outputs": [],
   "source": []
  },
  {
   "cell_type": "code",
   "execution_count": null,
   "id": "7663237c",
   "metadata": {},
   "outputs": [],
   "source": []
  }
 ],
 "metadata": {
  "kernelspec": {
   "display_name": "Python 3 (ipykernel)",
   "language": "python",
   "name": "python3"
  },
  "language_info": {
   "codemirror_mode": {
    "name": "ipython",
    "version": 3
   },
   "file_extension": ".py",
   "mimetype": "text/x-python",
   "name": "python",
   "nbconvert_exporter": "python",
   "pygments_lexer": "ipython3",
   "version": "3.9.7"
  }
 },
 "nbformat": 4,
 "nbformat_minor": 5
}
